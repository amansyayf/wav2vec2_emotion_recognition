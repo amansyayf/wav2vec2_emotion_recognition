{
  "nbformat": 4,
  "nbformat_minor": 0,
  "metadata": {
    "colab": {
      "provenance": [],
      "authorship_tag": "ABX9TyO929EKODRxaW0SOit1BTvH"
    },
    "kernelspec": {
      "name": "python3",
      "display_name": "Python 3"
    },
    "language_info": {
      "name": "python"
    }
  },
  "cells": [
    {
      "cell_type": "code",
      "source": [
        "# !pip install opensmile"
      ],
      "metadata": {
        "id": "CLMfDQXfv_By"
      },
      "execution_count": 20,
      "outputs": []
    },
    {
      "cell_type": "code",
      "execution_count": 3,
      "metadata": {
        "id": "VfiT-MwFvu7c"
      },
      "outputs": [],
      "source": [
        "import numpy as np\n",
        "import matplotlib.pyplot as plt\n",
        "import pandas as pd\n",
        "import seaborn as sns\n",
        "\n",
        "import os\n",
        "import librosa\n",
        "import librosa.display\n",
        "import IPython.display as ipd\n",
        "from datetime import datetime\n",
        "import opensmile\n",
        "\n",
        "from sklearn.metrics import accuracy_score\n",
        "from sklearn.model_selection import StratifiedKFold\n",
        "\n",
        "from sklearn.ensemble import ExtraTreesClassifier, RandomForestClassifier, HistGradientBoostingClassifier, VotingClassifier"
      ]
    },
    {
      "cell_type": "code",
      "source": [
        "from google.colab import drive\n",
        "drive.mount('/content/drive')"
      ],
      "metadata": {
        "colab": {
          "base_uri": "https://localhost:8080/"
        },
        "id": "Sq4jqaqAwIpr",
        "outputId": "2dd7d83b-cc98-4dc8-d66b-b28efa3e5345"
      },
      "execution_count": 1,
      "outputs": [
        {
          "output_type": "stream",
          "name": "stdout",
          "text": [
            "Mounted at /content/drive\n"
          ]
        }
      ]
    },
    {
      "cell_type": "code",
      "source": [
        "np.random.seed(1)"
      ],
      "metadata": {
        "id": "nLrvCAT7wSs8"
      },
      "execution_count": 5,
      "outputs": []
    },
    {
      "cell_type": "code",
      "source": [
        "def process_df(range, RAVDESS, dir_list):\n",
        "  emotion = []\n",
        "  path = []\n",
        "  for i in range:\n",
        "      directory = dir_list[i]\n",
        "      fname = os.listdir(RAVDESS + directory)\n",
        "      for f in fname:\n",
        "          part = f.split('.')[0].split('-')\n",
        "          emotion.append(int(part[2]))\n",
        "          path.append(RAVDESS + directory + '/' + f)\n",
        "\n",
        "  df = pd.DataFrame(emotion, columns=['label_class'])\n",
        "  df['label'] = df['label_class'].replace({1:'neutral', 2:'calm', 3:'happy', 4:'sad', 5:'angry', 6:'fear', 7:'disgust', 8:'surprise'})\n",
        "  df = pd.concat([df, pd.DataFrame(path, columns=['path'])], axis=1)\n",
        "  df['label_class'] = df['label_class'] - 1\n",
        "  return df"
      ],
      "metadata": {
        "id": "KNbNvEGMwYeg"
      },
      "execution_count": 6,
      "outputs": []
    },
    {
      "cell_type": "code",
      "source": [
        "def fetch_dataset(path):\n",
        "  RAVDESS = path+'/'\n",
        "  dir_list = os.listdir(RAVDESS)\n",
        "  dir_list.sort()\n",
        "\n",
        "  # make train dataset\n",
        "  df_train = process_df(range(22), RAVDESS, dir_list)\n",
        "\n",
        "  # make test dataset\n",
        "  df_test = process_df(range(22, 24), RAVDESS, dir_list)\n",
        "\n",
        "  return df_train, df_test"
      ],
      "metadata": {
        "id": "iwo1PTBgwbls"
      },
      "execution_count": 7,
      "outputs": []
    },
    {
      "cell_type": "code",
      "source": [
        "df_train, df_test = fetch_dataset(\"/content/drive/MyDrive/wav2vec/RAVDESS/\")"
      ],
      "metadata": {
        "id": "OZNxrldjwmA-"
      },
      "execution_count": 8,
      "outputs": []
    },
    {
      "cell_type": "code",
      "source": [
        "smile = opensmile.Smile(\n",
        "    feature_set=opensmile.FeatureSet.eGeMAPSv02,\n",
        "    feature_level=opensmile.FeatureLevel.Functionals,\n",
        ")\n",
        "\n",
        "def get_features(path):\n",
        "    result = smile.process_file(path)\n",
        "    return result.iloc[0].tolist()"
      ],
      "metadata": {
        "id": "7YGAzl6gwpaW"
      },
      "execution_count": 9,
      "outputs": []
    },
    {
      "cell_type": "code",
      "source": [
        "def get_features_df(df):\n",
        "    X, Y = [], []\n",
        "\n",
        "    for path, label in zip(df.path, df.label_class):\n",
        "        feature = get_features(path)\n",
        "        Y.append(label)\n",
        "        X.append(feature)\n",
        "    output_df = pd.DataFrame(X)\n",
        "    output_df['labels'] = Y\n",
        "    return output_df"
      ],
      "metadata": {
        "id": "fR-YLjnIwvsH"
      },
      "execution_count": 12,
      "outputs": []
    },
    {
      "cell_type": "code",
      "source": [
        "train_df_with_f = get_features_df(df_train)\n",
        "test_df_with_f = get_features_df(df_test)"
      ],
      "metadata": {
        "id": "eLCMW9Bkw1VS"
      },
      "execution_count": 13,
      "outputs": []
    },
    {
      "cell_type": "code",
      "source": [
        "def cross_val(model, label, train):\n",
        "    start_time = datetime.now()\n",
        "    kf = StratifiedKFold(n_splits = 4, shuffle=True, random_state=1)\n",
        "    oof = np.full(len(train), np.nan)\n",
        "    auc_list = []\n",
        "    for fold, (idx_tr, idx_va) in enumerate(kf.split(train, train.labels)):\n",
        "        X_tr = train.iloc[idx_tr]\n",
        "        X_va = train.iloc[idx_va]\n",
        "        y_tr = X_tr.pop('labels')\n",
        "        y_va = X_va.pop('labels')\n",
        "        model.fit(X_tr, y_tr)\n",
        "#         print(np.round(model[-1].coef_, 2), np.round(model[-1].intercept_, 2))\n",
        "        y_va_pred = model.predict(X_va)\n",
        "\n",
        "        oof[idx_va] = y_va_pred\n",
        "        auc = accuracy_score(y_va, y_va_pred)\n",
        "        auc_list.append(auc)\n",
        "    auc = np.array(auc_list).mean()\n",
        "    execution_time = datetime.now() - start_time\n",
        "    print(f\"# AUC {auc:.5f}   time={str(execution_time)[-15:-7]}   {label}\")\n",
        "    return auc"
      ],
      "metadata": {
        "id": "CY35lzNXxF_p"
      },
      "execution_count": 14,
      "outputs": []
    },
    {
      "cell_type": "code",
      "source": [
        "score_list = []\n",
        "for min_samples_leaf in [5, 10, 50, 100, 150, 200]:\n",
        "    auc = cross_val(RandomForestClassifier(n_estimators=100,\n",
        "                                           min_samples_leaf=min_samples_leaf,\n",
        "                                           max_features=1.0,\n",
        "                                           random_state=1),\n",
        "                    f\"RF {min_samples_leaf=}\", train_df_with_f)\n",
        "    score_list.append((min_samples_leaf, auc))\n",
        "\n",
        "plt.scatter(*zip(*score_list))\n",
        "plt.title('RandomForestClassifier')"
      ],
      "metadata": {
        "colab": {
          "base_uri": "https://localhost:8080/",
          "height": 574
        },
        "id": "MxT5JVKxxN0G",
        "outputId": "cc289dc6-3a80-4bf7-cc9a-cc2bd860c4bf"
      },
      "execution_count": 15,
      "outputs": [
        {
          "output_type": "stream",
          "name": "stdout",
          "text": [
            "# AUC 0.55682   time=0:00:20   RF min_samples_leaf=5\n",
            "# AUC 0.53182   time=0:00:22   RF min_samples_leaf=10\n",
            "# AUC 0.42576   time=0:00:10   RF min_samples_leaf=50\n",
            "# AUC 0.36439   time=0:00:07   RF min_samples_leaf=100\n",
            "# AUC 0.31364   time=0:00:04   RF min_samples_leaf=150\n",
            "# AUC 0.29924   time=0:00:05   RF min_samples_leaf=200\n"
          ]
        },
        {
          "output_type": "execute_result",
          "data": {
            "text/plain": [
              "Text(0.5, 1.0, 'RandomForestClassifier')"
            ]
          },
          "metadata": {},
          "execution_count": 15
        },
        {
          "output_type": "display_data",
          "data": {
            "text/plain": [
              "<Figure size 640x480 with 1 Axes>"
            ],
            "image/png": "[encoded data removed]"
          },
          "metadata": {}
        }
      ]
    },
    {
      "cell_type": "code",
      "source": [
        "model = RandomForestClassifier(n_estimators=100, min_samples_leaf=5, max_features=1.0, random_state=1)\n",
        "y = train_df_with_f.pop('labels')\n",
        "model.fit(train_df_with_f, y)\n"
      ],
      "metadata": {
        "colab": {
          "base_uri": "https://localhost:8080/",
          "height": 75
        },
        "id": "3H1LL_oPxiuj",
        "outputId": "23375a80-c16a-4e5c-c4af-fd6511ae4c56"
      },
      "execution_count": 17,
      "outputs": [
        {
          "output_type": "execute_result",
          "data": {
            "text/plain": [
              "RandomForestClassifier(max_features=1.0, min_samples_leaf=5, random_state=1)"
            ],
            "text/html": [
              "<style>#sk-container-id-1 {color: black;background-color: white;}#sk-container-id-1 pre{padding: 0;}#sk-container-id-1 div.sk-toggleable {background-color: white;}#sk-container-id-1 label.sk-toggleable__label {cursor: pointer;display: block;width: 100%;margin-bottom: 0;padding: 0.3em;box-sizing: border-box;text-align: center;}#sk-container-id-1 label.sk-toggleable__label-arrow:before {content: \"▸\";float: left;margin-right: 0.25em;color: #696969;}#sk-container-id-1 label.sk-toggleable__label-arrow:hover:before {color: black;}#sk-container-id-1 div.sk-estimator:hover label.sk-toggleable__label-arrow:before {color: black;}#sk-container-id-1 div.sk-toggleable__content {max-height: 0;max-width: 0;overflow: hidden;text-align: left;background-color: #f0f8ff;}#sk-container-id-1 div.sk-toggleable__content pre {margin: 0.2em;color: black;border-radius: 0.25em;background-color: #f0f8ff;}#sk-container-id-1 input.sk-toggleable__control:checked~div.sk-toggleable__content {max-height: 200px;max-width: 100%;overflow: auto;}#sk-container-id-1 input.sk-toggleable__control:checked~label.sk-toggleable__label-arrow:before {content: \"▾\";}#sk-container-id-1 div.sk-estimator input.sk-toggleable__control:checked~label.sk-toggleable__label {background-color: #d4ebff;}#sk-container-id-1 div.sk-label input.sk-toggleable__control:checked~label.sk-toggleable__label {background-color: #d4ebff;}#sk-container-id-1 input.sk-hidden--visually {border: 0;clip: rect(1px 1px 1px 1px);clip: rect(1px, 1px, 1px, 1px);height: 1px;margin: -1px;overflow: hidden;padding: 0;position: absolute;width: 1px;}#sk-container-id-1 div.sk-estimator {font-family: monospace;background-color: #f0f8ff;border: 1px dotted black;border-radius: 0.25em;box-sizing: border-box;margin-bottom: 0.5em;}#sk-container-id-1 div.sk-estimator:hover {background-color: #d4ebff;}#sk-container-id-1 div.sk-parallel-item::after {content: \"\";width: 100%;border-bottom: 1px solid gray;flex-grow: 1;}#sk-container-id-1 div.sk-label:hover label.sk-toggleable__label {background-color: #d4ebff;}#sk-container-id-1 div.sk-serial::before {content: \"\";position: absolute;border-left: 1px solid gray;box-sizing: border-box;top: 0;bottom: 0;left: 50%;z-index: 0;}#sk-container-id-1 div.sk-serial {display: flex;flex-direction: column;align-items: center;background-color: white;padding-right: 0.2em;padding-left: 0.2em;position: relative;}#sk-container-id-1 div.sk-item {position: relative;z-index: 1;}#sk-container-id-1 div.sk-parallel {display: flex;align-items: stretch;justify-content: center;background-color: white;position: relative;}#sk-container-id-1 div.sk-item::before, #sk-container-id-1 div.sk-parallel-item::before {content: \"\";position: absolute;border-left: 1px solid gray;box-sizing: border-box;top: 0;bottom: 0;left: 50%;z-index: -1;}#sk-container-id-1 div.sk-parallel-item {display: flex;flex-direction: column;z-index: 1;position: relative;background-color: white;}#sk-container-id-1 div.sk-parallel-item:first-child::after {align-self: flex-end;width: 50%;}#sk-container-id-1 div.sk-parallel-item:last-child::after {align-self: flex-start;width: 50%;}#sk-container-id-1 div.sk-parallel-item:only-child::after {width: 0;}#sk-container-id-1 div.sk-dashed-wrapped {border: 1px dashed gray;margin: 0 0.4em 0.5em 0.4em;box-sizing: border-box;padding-bottom: 0.4em;background-color: white;}#sk-container-id-1 div.sk-label label {font-family: monospace;font-weight: bold;display: inline-block;line-height: 1.2em;}#sk-container-id-1 div.sk-label-container {text-align: center;}#sk-container-id-1 div.sk-container {/* jupyter's `normalize.less` sets `[hidden] { display: none; }` but bootstrap.min.css set `[hidden] { display: none !important; }` so we also need the `!important` here to be able to override the default hidden behavior on the sphinx rendered scikit-learn.org. See: https://github.com/scikit-learn/scikit-learn/issues/21755 */display: inline-block !important;position: relative;}#sk-container-id-1 div.sk-text-repr-fallback {display: none;}</style><div id=\"sk-container-id-1\" class=\"sk-top-container\"><div class=\"sk-text-repr-fallback\"><pre>RandomForestClassifier(max_features=1.0, min_samples_leaf=5, random_state=1)</pre><b>In a Jupyter environment, please rerun this cell to show the HTML representation or trust the notebook. <br />On GitHub, the HTML representation is unable to render, please try loading this page with nbviewer.org.</b></div><div class=\"sk-container\" hidden><div class=\"sk-item\"><div class=\"sk-estimator sk-toggleable\"><input class=\"sk-toggleable__control sk-hidden--visually\" id=\"sk-estimator-id-1\" type=\"checkbox\" checked><label for=\"sk-estimator-id-1\" class=\"sk-toggleable__label sk-toggleable__label-arrow\">RandomForestClassifier</label><div class=\"sk-toggleable__content\"><pre>RandomForestClassifier(max_features=1.0, min_samples_leaf=5, random_state=1)</pre></div></div></div></div></div>"
            ]
          },
          "metadata": {},
          "execution_count": 17
        }
      ]
    },
    {
      "cell_type": "code",
      "source": [
        "y_test = test_df_with_f.pop('labels')\n",
        "accuracy_score(y_test, model.predict(test_df_with_f))"
      ],
      "metadata": {
        "colab": {
          "base_uri": "https://localhost:8080/"
        },
        "id": "A8SD7Ojtyc7w",
        "outputId": "aca2d891-53b0-470a-98d4-5db949ee16a8"
      },
      "execution_count": 19,
      "outputs": [
        {
          "output_type": "execute_result",
          "data": {
            "text/plain": [
              "0.525"
            ]
          },
          "metadata": {},
          "execution_count": 19
        }
      ]
    }
  ]
}